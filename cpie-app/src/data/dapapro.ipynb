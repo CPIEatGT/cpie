{
 "cells": [
  {
   "cell_type": "code",
   "execution_count": 1,
   "metadata": {},
   "outputs": [],
   "source": [
    "import pandas as pd\n",
    "import os\n",
    "import json"
   ]
  },
  {
   "cell_type": "code",
   "execution_count": 2,
   "metadata": {},
   "outputs": [],
   "source": [
    "stated = {\"AL\":\"Alabama\",\"AK\":\"Alaska\",\"AZ\":\"Arizona\",\"AR\":\"Arkansas\",\"CA\":\"California\",\"CO\":\"Colorado\",\"CT\":\"Connecticut\",\"DE\":\"Delaware\",\"FL\":\"Florida\",\"GA\":\"Georgia\",\"HI\":\"Hawaii\",\"ID\":\"Idaho\",\"IL\":\"Illinois\",\"IN\":\"Indiana\",\"IA\":\"Iowa\",\"KS\":\"Kansas\",\"KY\":\"Kentucky\",\"LA\":\"Louisiana\",\"ME\":\"Maine\",\"MD\":\"Maryland\",\"MA\":\"Massachusetts\",\"MI\":\"Michigan\",\"MN\":\"Minnesota\",\"MS\":\"Mississippi\",\"MO\":\"Missouri\",\"MT\":\"Montana\",\"NE\":\"Nebraska\",\"NV\":\"Nevada\",\"NH\":\"New Hampshire\",\"NJ\":\"New Jersey\",\"NM\":\"New Mexico\",\"NY\":\"New York\",\"NC\":\"North Carolina\",\"ND\":\"North Dakota\",\"OH\":\"Ohio\",\"OK\":\"Oklahoma\",\"OR\":\"Oregon\",\"PA\":\"Pennsylvania\",\"RI\":\"Rhode Island\",\"SC\":\"South Carolina\",\"SD\":\"South Dakota\",\"TN\":\"Tennessee\",\"TX\":\"Texas\",\"UT\":\"Utah\",\"VT\":\"Vermont\",\"VA\":\"Virginia\",\"WA\":\"Washington\",\"WV\":\"West Virginia\",\"WI\":\"Wisconsin\",\"WY\":\"Wyoming\"}\n"
   ]
  },
  {
   "cell_type": "code",
   "execution_count": 4,
   "metadata": {},
   "outputs": [],
   "source": [
    "df = pd.read_csv(r'C:\\Users\\coduser\\Documents\\GitHub\\CPIEatGT\\cpie\\cpie-app\\src\\data\\newdata2\\new_pm25_facility_state.csv')\n",
    "\n"
   ]
  },
  {
   "cell_type": "code",
   "execution_count": 5,
   "metadata": {},
   "outputs": [],
   "source": [
    "for i in stated.keys():\n",
    "    df.replace(to_replace =i, \n",
    "                 value = stated[i], \n",
    "                  inplace = True)\n",
    "  \n",
    "# writing  the dataframe to another csv file\n"
   ]
  },
  {
   "cell_type": "code",
   "execution_count": 6,
   "metadata": {},
   "outputs": [
    {
     "data": {
      "text/plain": [
       "'c:\\\\Users\\\\coduser\\\\Documents\\\\GitHub\\\\CPIEatGT\\\\cpie\\\\cpie-app\\\\src\\\\data'"
      ]
     },
     "execution_count": 6,
     "metadata": {},
     "output_type": "execute_result"
    }
   ],
   "source": [
    "import os\n",
    "\n",
    "os.getcwd()"
   ]
  },
  {
   "cell_type": "code",
   "execution_count": 7,
   "metadata": {},
   "outputs": [],
   "source": [
    "df.to_csv('./newdata2/new_p25_facility_fullname.csv', \n",
    "                 index = False)"
   ]
  },
  {
   "cell_type": "code",
   "execution_count": 8,
   "metadata": {},
   "outputs": [],
   "source": [
    "df2 = df.groupby(['state_zip','FacID']).agg({'FacID': 'first', \"Facility.Latitude\":'first','Facility.Longitude':'first','state_facility':'first', 'deaths_coef_2':'sum', 'deaths_coef_1':'sum' , 'deaths_coef_3':'sum'         \n",
    "         }).to_csv('./newdata2/facility_to_state_sum.csv')\n"
   ]
  },
  {
   "cell_type": "code",
   "execution_count": 9,
   "metadata": {},
   "outputs": [
    {
     "name": "stderr",
     "output_type": "stream",
     "text": [
      "C:\\Users\\coduser\\AppData\\Local\\Temp\\ipykernel_28852\\80464349.py:1: FutureWarning: Indexing with multiple keys (implicitly converted to a tuple of keys) will be deprecated, use a list instead.\n",
      "  df3 = df.groupby(['FacID'])[ 'deaths_coef_2', 'deaths_coef_1', 'deaths_coef_3'].sum().reset_index().rename(columns={'deaths_coef_2':'deaths_coef_2_all', 'deaths_coef_1':'deaths_coef_1_all','deaths_coef_3':'deaths_coef_3_all'})\n"
     ]
    }
   ],
   "source": [
    "df3 = df.groupby(['FacID'])[ 'deaths_coef_2', 'deaths_coef_1', 'deaths_coef_3'].sum().reset_index().rename(columns={'deaths_coef_2':'deaths_coef_2_all', 'deaths_coef_1':'deaths_coef_1_all','deaths_coef_3':'deaths_coef_3_all'})\n",
    "df2 = pd.read_csv(r'./newdata2/facility_to_state_sum.csv')\n",
    "pd.merge(df2, df3, on=\"FacID\").to_csv('./newdata2/facility_to_state_sum_all.csv')\n"
   ]
  },
  {
   "cell_type": "code",
   "execution_count": 10,
   "metadata": {},
   "outputs": [],
   "source": [
    "df.groupby(['year','FacID' ]).agg({'deaths_coef_1':'sum', 'deaths_coef_2':'sum',\n",
    "         'deaths_coef_3':'sum',\n",
    "         }).to_csv('./newdata2/facility_to_state_year.csv')\n"
   ]
  },
  {
   "cell_type": "code",
   "execution_count": 11,
   "metadata": {},
   "outputs": [
    {
     "name": "stderr",
     "output_type": "stream",
     "text": [
      "C:\\Users\\coduser\\AppData\\Local\\Temp\\ipykernel_28852\\1544624810.py:1: FutureWarning: Indexing with multiple keys (implicitly converted to a tuple of keys) will be deprecated, use a list instead.\n",
      "  df.groupby(['state_zip','state_facility' ])[ 'deaths_coef_2', 'deaths_coef_1','deaths_coef_3'].sum().to_csv('./newdata2/state_to_state_sum_all_fullname.csv')\n"
     ]
    }
   ],
   "source": [
    "df.groupby(['state_zip','state_facility' ])[ 'deaths_coef_2', 'deaths_coef_1','deaths_coef_3'].sum().to_csv('./newdata2/state_to_state_sum_all_fullname.csv')\n"
   ]
  },
  {
   "cell_type": "code",
   "execution_count": 12,
   "metadata": {},
   "outputs": [
    {
     "name": "stderr",
     "output_type": "stream",
     "text": [
      "C:\\Users\\coduser\\AppData\\Local\\Temp\\ipykernel_28852\\2559904673.py:1: FutureWarning: Indexing with multiple keys (implicitly converted to a tuple of keys) will be deprecated, use a list instead.\n",
      "  df.groupby(['year','FacID','state_zip'])[ 'deaths_coef_2','deaths_coef_1','deaths_coef_3'].sum().to_csv('./newdata2/facility_to_state_year_sum2_fullname.csv')\n"
     ]
    }
   ],
   "source": [
    "df.groupby(['year','FacID','state_zip'])[ 'deaths_coef_2','deaths_coef_1','deaths_coef_3'].sum().to_csv('./newdata2/facility_to_state_year_sum2_fullname.csv') \n"
   ]
  },
  {
   "cell_type": "code",
   "execution_count": 13,
   "metadata": {},
   "outputs": [
    {
     "name": "stderr",
     "output_type": "stream",
     "text": [
      "C:\\Users\\coduser\\AppData\\Local\\Temp\\ipykernel_28852\\182596346.py:1: FutureWarning: Indexing with multiple keys (implicitly converted to a tuple of keys) will be deprecated, use a list instead.\n",
      "  df.groupby(['year','state_facility','state_zip'])[ 'deaths_coef_2','deaths_coef_1','deaths_coef_3'].sum().to_csv('./newdata2/pm25_facility_state_sum_fullname.csv')\n"
     ]
    }
   ],
   "source": [
    "\n",
    "df.groupby(['year','state_facility','state_zip'])[ 'deaths_coef_2','deaths_coef_1','deaths_coef_3'].sum().to_csv('./newdata2/pm25_facility_state_sum_fullname.csv') \n"
   ]
  },
  {
   "cell_type": "code",
   "execution_count": 14,
   "metadata": {},
   "outputs": [
    {
     "name": "stderr",
     "output_type": "stream",
     "text": [
      "C:\\Users\\coduser\\AppData\\Local\\Temp\\ipykernel_28852\\2377575195.py:1: FutureWarning: Indexing with multiple keys (implicitly converted to a tuple of keys) will be deprecated, use a list instead.\n",
      "  df.groupby(['state_zip','year'])[ 'deaths_coef_2','deaths_coef_1','deaths_coef_3'].sum().reset_index().rename(columns={'deaths_coef_2':'deaths_coef_2_all'}).to_csv('./newdata2/landing_state_overall_year.csv')\n"
     ]
    }
   ],
   "source": [
    "df.groupby(['state_zip','year'])[ 'deaths_coef_2','deaths_coef_1','deaths_coef_3'].sum().reset_index().rename(columns={'deaths_coef_2':'deaths_coef_2_all'}).to_csv('./newdata2/landing_state_overall_year.csv')\n"
   ]
  },
  {
   "cell_type": "code",
   "execution_count": 15,
   "metadata": {},
   "outputs": [
    {
     "name": "stderr",
     "output_type": "stream",
     "text": [
      "C:\\Users\\coduser\\AppData\\Local\\Temp\\ipykernel_28852\\2956858305.py:1: FutureWarning: Indexing with multiple keys (implicitly converted to a tuple of keys) will be deprecated, use a list instead.\n",
      "  df.groupby(['state_zip'])[ 'deaths_coef_2','deaths_coef_1','deaths_coef_3'].sum().reset_index().rename(columns={'deaths_coef_2':'deaths_coef_2_all'}).to_csv('./newdata2/landing_state_overall.csv')\n"
     ]
    }
   ],
   "source": [
    "df.groupby(['state_zip'])[ 'deaths_coef_2','deaths_coef_1','deaths_coef_3'].sum().reset_index().rename(columns={'deaths_coef_2':'deaths_coef_2_all'}).to_csv('./newdata2/landing_state_overall.csv')\n"
   ]
  },
  {
   "cell_type": "code",
   "execution_count": 4,
   "metadata": {},
   "outputs": [],
   "source": [
    "#scrubbed and shut newdata2 \n",
    "df = pd.read_csv(r'C:\\Users\\coduser\\Documents\\GitHub\\CPIEatGT\\cpie\\cpie-app\\src\\data\\facility_operating_scrubbers_startyear.csv')\n",
    "\n",
    "df.groupby(['FacID','year_scrubbed' ]).count().to_csv('./newdata2/new_facility_scrubbed_count.csv') \n",
    "df.groupby(['FacID','year_shut' ]).count().to_csv('./newdata2/new_facility_shut_count.csv') \n"
   ]
  },
  {
   "cell_type": "code",
   "execution_count": 5,
   "metadata": {},
   "outputs": [],
   "source": [
    "#total sum of scrub and shut data\n",
    "df = pd.read_csv(r'C:\\Users\\coduser\\Documents\\GitHub\\CPIEatGT\\cpie\\cpie-app\\src\\data\\facility_operating_scrubbers_startyear.csv')\n",
    "\n",
    "df_sum = df.groupby(['FacID' ]).count().to_csv('./newdata2/new_facility_all_count.csv') \n",
    "# dictl = [{\"label\": r[\"Facility.Name\"] + ', ' + r['state_facility'] ,  \"value\" : [r['state_facility'] ,r['FacID']] } for  index, r in df.iterrows() ]\n",
    "# udict = list({v['label']:v for v in dictl}.values())\n",
    "# print(df_sum)"
   ]
  },
  {
   "cell_type": "code",
   "execution_count": null,
   "metadata": {},
   "outputs": [],
   "source": [
    "# dict2 = [{ r['FacID']: [r[\"Facility.Name\"],r[\"state_facility\"]]  for  index, r in df_sum.iterrows()}]\n",
    "# # print(len(dict2))\n",
    "# with open(\"facid_name_dict2.json\", \"w\") as final:\n",
    "#    json.dump(dict2, final)\n",
    "# print(dictl)"
   ]
  }
 ],
 "metadata": {
  "kernelspec": {
   "display_name": "Python 3.10.5 64-bit",
   "language": "python",
   "name": "python3"
  },
  "language_info": {
   "codemirror_mode": {
    "name": "ipython",
    "version": 3
   },
   "file_extension": ".py",
   "mimetype": "text/x-python",
   "name": "python",
   "nbconvert_exporter": "python",
   "pygments_lexer": "ipython3",
   "version": "3.10.5"
  },
  "orig_nbformat": 4,
  "vscode": {
   "interpreter": {
    "hash": "218c93a02c1f8f0b8764b23e6253dcf96f345ff443b759636cf5ba0d3f79fc4e"
   }
  }
 },
 "nbformat": 4,
 "nbformat_minor": 2
}
